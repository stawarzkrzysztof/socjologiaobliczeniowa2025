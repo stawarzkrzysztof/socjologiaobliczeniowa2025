{
 "cells": [
  {
   "cell_type": "markdown",
   "metadata": {},
   "source": [
    "# Zad 1.  \n",
    "Zbadamy ewolucję układu na sieci kwadratowej o rozmiarze 100 ×100 dla początkowego losowego rozkładu dwóch opinii w układzie. Sporządzamy również wykres liczby opinii na ‘tak’ od czasu. Przyjmijmy sekwencyjny schemat aktualizacji opinii.  "
   ]
  },
  {
   "cell_type": "code",
   "execution_count": 1,
   "metadata": {},
   "outputs": [],
   "source": [
    "# packages required\n",
    "using Random, DataFrames, CSV"
   ]
  },
  {
   "cell_type": "code",
   "execution_count": 2,
   "metadata": {},
   "outputs": [],
   "source": [
    "L = 100;"
   ]
  },
  {
   "cell_type": "code",
   "execution_count": 3,
   "metadata": {},
   "outputs": [],
   "source": [
    "function voter_model(; L=100, max_iter=100_000, verbose=true)\n",
    "\n",
    "    network = rand(0:1, (L, L)) # L x L randomized binary matrix {1: \"yes\", 0: \"no\")\n",
    "    i = 0                       # iteration counter\n",
    "    yesses = []                 # number of ones/yes answers container\n",
    "\n",
    "    # model loop\n",
    "    start_time = time()\n",
    "    while (0 < sum(network) < L^2) && (i < max_iter)\n",
    "    # sum(network) de facto means number of ones/yes answers,\n",
    "    # having sum(network)==0 || sum(network)==L^2 means that model converged\n",
    "        i += 1\n",
    "        # foreach node in the network, copy opinion from one of its neighbout\n",
    "        for x in 1:L\n",
    "            for y in 1:L\n",
    "                decision = rand(1:4)    # randomly pick neigbour to copy opinion from\n",
    "                # why doesn't Julia natively support switch-case statement huh? -__-\n",
    "                if decision == 1\n",
    "                    # mod1() makes sure we dont go over the index range,\n",
    "                    # insted we just go back to the start\n",
    "                    network[x, y] = network[mod1(x - 1, L), y] # up\n",
    "                elseif decision == 2\n",
    "                    network[x, y] = network[mod1(x + 1, L), y] # down\n",
    "                elseif decision == 3\n",
    "                    network[x, y] = network[x, mod1(y - 1, L)] # left\n",
    "                else\n",
    "                    network[x, y] = network[x, mod1(y + 1, L)] # right\n",
    "                end\n",
    "            end\n",
    "        end\n",
    "        push!(yesses, sum(network)) # add number of ones / yes answers to the list                  \n",
    "    end\n",
    "    end_time = time()\n",
    "\n",
    "    elapsed_time = end_time - start_time\n",
    "\n",
    "    if verbose\n",
    "        # end message using fancy ternary operator\n",
    "        i == max_iter ? println(\"Model for L=$L did not converge, max_iter=$i reached\") : println(\"Model for L=$L converged after $i iterations\")\n",
    "    end\n",
    "\n",
    "    return (i, elapsed_time, yesses)\n",
    "\n",
    "end;"
   ]
  },
  {
   "cell_type": "code",
   "execution_count": 4,
   "metadata": {},
   "outputs": [
    {
     "name": "stdout",
     "output_type": "stream",
     "text": [
      "Model for L=100 converged after 17260 iterations\n"
     ]
    }
   ],
   "source": [
    "(iterations_passed, time_elapsed, ans_evolution) = voter_model(L=L);"
   ]
  },
  {
   "cell_type": "code",
   "execution_count": 5,
   "metadata": {},
   "outputs": [],
   "source": [
    "df = DataFrame(zad = 1,\n",
    "               L = L,\n",
    "               iter = iterations_passed,\n",
    "               time = time_elapsed, \n",
    "               evolution = join(string.(ans_evolution), \";\"));"
   ]
  },
  {
   "cell_type": "markdown",
   "metadata": {},
   "source": [
    "# Zad 2.  \n",
    "Powtarzamy dziesięciokrotnie symulacje mierząc średni czasy dojścia do konsensusu (dziesieć różnych punktów startowych). Wyznaczamy średnią z tych dziesięciu pomiarów i niepewność jej wyznaczenia."
   ]
  },
  {
   "cell_type": "code",
   "execution_count": 6,
   "metadata": {},
   "outputs": [],
   "source": [
    "for i in 1:10\n",
    "    (iterations_passed, time_elapsed, ans_evolution) = voter_model(L=L, verbose=false);\n",
    "    push!(df, (2, L, iterations_passed, time_elapsed, join(string.(ans_evolution), \";\")))\n",
    "end;"
   ]
  },
  {
   "cell_type": "markdown",
   "metadata": {},
   "source": [
    "  # Zad 3.  \n",
    "Sprawdźmy czy i jak średni czas dojścia do konsensusu (z dziesięciu realizacji) zależy od rozmiaru układu $L^2$? Przyjmijmy L= 10, 50, 100, 200."
   ]
  },
  {
   "cell_type": "code",
   "execution_count": 7,
   "metadata": {},
   "outputs": [
    {
     "name": "stdout",
     "output_type": "stream",
     "text": [
      "10 x model with L=10 calculated\n",
      "10 x model with L=50 calculated\n",
      "10 x model with L=100 calculated\n",
      "10 x model with L=200 calculated\n"
     ]
    }
   ],
   "source": [
    "for L in [10, 50, 100, 200]    \n",
    "    for i in 1:10\n",
    "        (iterations_passed, time_elapsed, ans_evolution) = voter_model(L=L, verbose=false);\n",
    "        push!(df, (3, L, iterations_passed, time_elapsed, join(string.(ans_evolution), \";\")))\n",
    "    end\n",
    "    println(\"10 x model with L=$L calculated\")\n",
    "end;"
   ]
  },
  {
   "cell_type": "code",
   "execution_count": 8,
   "metadata": {},
   "outputs": [
    {
     "data": {
      "text/html": [
       "<div><div style = \"float: left;\"><span>5×4 DataFrame</span></div><div style = \"clear: both;\"></div></div><div class = \"data-frame\" style = \"overflow-x: scroll;\"><table class = \"data-frame\" style = \"margin-bottom: 6px;\"><thead><tr class = \"header\"><th class = \"rowNumber\" style = \"font-weight: bold; text-align: right;\">Row</th><th style = \"text-align: left;\">zad</th><th style = \"text-align: left;\">L</th><th style = \"text-align: left;\">iter</th><th style = \"text-align: left;\">time</th></tr><tr class = \"subheader headerLastRow\"><th class = \"rowNumber\" style = \"font-weight: bold; text-align: right;\"></th><th title = \"Int64\" style = \"text-align: left;\">Int64</th><th title = \"Int64\" style = \"text-align: left;\">Int64</th><th title = \"Int64\" style = \"text-align: left;\">Int64</th><th title = \"Float64\" style = \"text-align: left;\">Float64</th></tr></thead><tbody><tr><td class = \"rowNumber\" style = \"font-weight: bold; text-align: right;\">1</td><td style = \"text-align: right;\">1</td><td style = \"text-align: right;\">100</td><td style = \"text-align: right;\">17260</td><td style = \"text-align: right;\">1.63845</td></tr><tr><td class = \"rowNumber\" style = \"font-weight: bold; text-align: right;\">2</td><td style = \"text-align: right;\">2</td><td style = \"text-align: right;\">100</td><td style = \"text-align: right;\">21178</td><td style = \"text-align: right;\">2.08856</td></tr><tr><td class = \"rowNumber\" style = \"font-weight: bold; text-align: right;\">3</td><td style = \"text-align: right;\">2</td><td style = \"text-align: right;\">100</td><td style = \"text-align: right;\">4262</td><td style = \"text-align: right;\">0.395085</td></tr><tr><td class = \"rowNumber\" style = \"font-weight: bold; text-align: right;\">4</td><td style = \"text-align: right;\">2</td><td style = \"text-align: right;\">100</td><td style = \"text-align: right;\">3648</td><td style = \"text-align: right;\">0.338642</td></tr><tr><td class = \"rowNumber\" style = \"font-weight: bold; text-align: right;\">5</td><td style = \"text-align: right;\">2</td><td style = \"text-align: right;\">100</td><td style = \"text-align: right;\">3363</td><td style = \"text-align: right;\">0.313183</td></tr></tbody></table></div>"
      ],
      "text/latex": [
       "\\begin{tabular}{r|cccc}\n",
       "\t& zad & L & iter & time\\\\\n",
       "\t\\hline\n",
       "\t& Int64 & Int64 & Int64 & Float64\\\\\n",
       "\t\\hline\n",
       "\t1 & 1 & 100 & 17260 & 1.63845 \\\\\n",
       "\t2 & 2 & 100 & 21178 & 2.08856 \\\\\n",
       "\t3 & 2 & 100 & 4262 & 0.395085 \\\\\n",
       "\t4 & 2 & 100 & 3648 & 0.338642 \\\\\n",
       "\t5 & 2 & 100 & 3363 & 0.313183 \\\\\n",
       "\\end{tabular}\n"
      ],
      "text/plain": [
       "\u001b[1m5×4 DataFrame\u001b[0m\n",
       "\u001b[1m Row \u001b[0m│\u001b[1m zad   \u001b[0m\u001b[1m L     \u001b[0m\u001b[1m iter  \u001b[0m\u001b[1m time     \u001b[0m\n",
       "     │\u001b[90m Int64 \u001b[0m\u001b[90m Int64 \u001b[0m\u001b[90m Int64 \u001b[0m\u001b[90m Float64  \u001b[0m\n",
       "─────┼───────────────────────────────\n",
       "   1 │     1    100  17260  1.63845\n",
       "   2 │     2    100  21178  2.08856\n",
       "   3 │     2    100   4262  0.395085\n",
       "   4 │     2    100   3648  0.338642\n",
       "   5 │     2    100   3363  0.313183"
      ]
     },
     "metadata": {},
     "output_type": "display_data"
    }
   ],
   "source": [
    "df[1:5, 1:4]"
   ]
  },
  {
   "cell_type": "code",
   "execution_count": 9,
   "metadata": {},
   "outputs": [
    {
     "data": {
      "text/plain": [
       "\"results.csv\""
      ]
     },
     "metadata": {},
     "output_type": "display_data"
    }
   ],
   "source": [
    "CSV.write(\"results.csv\", df)"
   ]
  },
  {
   "cell_type": "code",
   "execution_count": 10,
   "metadata": {},
   "outputs": [],
   "source": [
    "# Krzysztof Stawarz\n",
    "# EOF"
   ]
  }
 ],
 "metadata": {
  "kernelspec": {
   "display_name": "Julia 1.11.3",
   "language": "julia",
   "name": "julia-1.11"
  },
  "language_info": {
   "file_extension": ".jl",
   "mimetype": "application/julia",
   "name": "julia",
   "version": "1.11.3"
  }
 },
 "nbformat": 4,
 "nbformat_minor": 2
}
