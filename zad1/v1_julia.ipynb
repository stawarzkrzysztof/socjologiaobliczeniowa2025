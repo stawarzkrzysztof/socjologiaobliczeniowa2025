{
 "cells": [
  {
   "cell_type": "markdown",
   "metadata": {},
   "source": [
    "# Zad 1.  \n",
    "Zbadamy ewolucję układu na sieci kwadratowej o rozmiarze 100 ×100 dla początkowego losowego rozkładu dwóch opinii w układzie. Sporządzamy również wykres liczby opinii na ‘tak’ od czasu. Przyjmijmy sekwencyjny schemat aktualizacji opinii.  "
   ]
  },
  {
   "cell_type": "code",
   "execution_count": 5,
   "metadata": {},
   "outputs": [],
   "source": [
    "# packages required\n",
    "using Random, Plots, DataFrames"
   ]
  },
  {
   "cell_type": "code",
   "execution_count": 36,
   "metadata": {},
   "outputs": [],
   "source": [
    "function voter_model(; L=100, max_iter=100_000, verbose=true)\n",
    "\n",
    "    network = rand(0:1, (L, L)) # L x L randomized binary matrix {1: \"yes\", 0: \"no\")\n",
    "    i = 0                       # iteration counter\n",
    "    yesses = []                 # number of ones/yes answers container\n",
    "\n",
    "    # model loop\n",
    "    start_time = time()\n",
    "    while (0 < sum(network) < L^2) && (i < max_iter)\n",
    "    # sum(network) de facto means number of ones/yes answers,\n",
    "    # having sum(network)==0 || sum(network)==L^2 means that model converged\n",
    "        i += 1\n",
    "        # foreach node in the network, copy opinion from one of its neighbout\n",
    "        for x in 1:L\n",
    "            for y in 1:L\n",
    "                decision = rand(1:4)    # randomly pick neigbour to copy opinion from\n",
    "                # why doesn't Julia natively support switch-case statement huh? -__-\n",
    "                if decision == 1\n",
    "                    # mod1() makes sure we dont go over the index range,\n",
    "                    # insted we just go back to the start\n",
    "                    network[x, y] = network[mod1(x - 1, L), y] # up\n",
    "                elseif decision == 2\n",
    "                    network[x, y] = network[mod1(x + 1, L), y] # down\n",
    "                elseif decision == 3\n",
    "                    network[x, y] = network[x, mod1(y - 1, L)] # left\n",
    "                else\n",
    "                    network[x, y] = network[x, mod1(y + 1, L)] # right\n",
    "                end\n",
    "            end\n",
    "        end\n",
    "        push!(yesses, sum(network)) # add number of ones / yes answers to the list                  \n",
    "    end\n",
    "    end_time = time()\n",
    "\n",
    "    elapsed_time = end_time - start_time\n",
    "\n",
    "    # end message using fancy ternary operator\n",
    "    i == max_iter && verbose ? println(\"Model did not converge, max_iter=$i reached\") : println(\"Model converged after $i iterations\")\n",
    "\n",
    "    return (i, elapsed_time, yesses)\n",
    "\n",
    "end;"
   ]
  },
  {
   "cell_type": "code",
   "execution_count": 37,
   "metadata": {},
   "outputs": [
    {
     "name": "stdout",
     "output_type": "stream",
     "text": [
      "Model converged after 23341 iterations\n"
     ]
    }
   ],
   "source": [
    "(iterations_passed, time_elapsed, ans_evolution) = voter_model(L=100);"
   ]
  },
  {
   "cell_type": "code",
   "execution_count": 38,
   "metadata": {},
   "outputs": [],
   "source": [
    "df = DataFrame(zad = 1,\n",
    "               L = 100,\n",
    "               iter = iterations_passed,\n",
    "               time = time_elapsed, \n",
    "               evolution = join(string.(ans_evolution), \";\"));"
   ]
  },
  {
   "cell_type": "markdown",
   "metadata": {},
   "source": [
    "# Zad 2.  \n",
    "Powtarzamy dziesięciokrotnie symulacje mierząc średni czasy dojścia do konsensusu (dziesieć różnych punktów startowych). Wyznaczamy średnią z tych dziesięciu pomiarów i niepewność jej wyznaczenia."
   ]
  },
  {
   "cell_type": "code",
   "execution_count": 31,
   "metadata": {},
   "outputs": [],
   "source": [
    "function iterate_and_save_data(; zad=nothing, L=nothing, n=nothing, source=nothing)\n",
    "    for i in 1:n\n",
    "        (iterations_passed, time_elapsed, ans_evolution) = voter_model(L=L);\n",
    "        push!(df, (zad, L, iterations_passed, time_elapsed, join(string.(ans_evolution), \";\")))\n",
    "    end\n",
    "end;"
   ]
  },
  {
   "cell_type": "code",
   "execution_count": 32,
   "metadata": {},
   "outputs": [
    {
     "name": "stdout",
     "output_type": "stream",
     "text": [
      "Model converged after 7709 iterations\n",
      "Model converged after 4459 iterations\n",
      "Model converged after 17238 iterations\n",
      "Model converged after 7849 iterations\n",
      "Model converged after 5286 iterations\n",
      "Model converged after 17694 iterations\n",
      "Model converged after 3883 iterations\n",
      "Model converged after 20695 iterations\n",
      "Model converged after 21939 iterations\n",
      "Model converged after 5196 iterations\n"
     ]
    }
   ],
   "source": [
    "iterate_and_save_data(zad=2, L=100, n=10, source=df)"
   ]
  },
  {
   "cell_type": "markdown",
   "metadata": {},
   "source": [
    "  # Zad 3.  \n",
    "Sprawdźmy czy i jak średni czas dojścia do konsensusu (z dziesięciu realizacji) zależy od rozmiaru układu $L^2$? Przyjmijmy L= 10, 50, 100, 200."
   ]
  },
  {
   "cell_type": "code",
   "execution_count": 28,
   "metadata": {},
   "outputs": [
    {
     "name": "stdout",
     "output_type": "stream",
     "text": [
      "Model converged after 148 iterations\n",
      "Model converged after 42 iterations\n",
      "Model converged after 41 iterations\n",
      "Model converged after 49 iterations\n",
      "Model converged after 112 iterations\n",
      "Model converged after 140 iterations\n",
      "Model converged after 92 iterations\n",
      "Model converged after 56 iterations\n",
      "Model converged after 10 iterations\n",
      "Model converged after 24 iterations\n",
      "Model converged after 2688 iterations\n",
      "Model converged after 1345 iterations\n",
      "Model converged after 798 iterations\n",
      "Model converged after 1789 iterations\n",
      "Model converged after 1300 iterations\n",
      "Model converged after 5191 iterations\n",
      "Model converged after 8273 iterations\n",
      "Model converged after 5388 iterations\n",
      "Model converged after 2295 iterations\n",
      "Model converged after 3267 iterations\n",
      "Model converged after 60950 iterations\n",
      "Model converged after 14813 iterations\n",
      "Model converged after 58612 iterations\n",
      "Model converged after 37592 iterations\n"
     ]
    },
    {
     "ename": "InterruptException",
     "evalue": "InterruptException:",
     "output_type": "error",
     "traceback": [
      "InterruptException:\n",
      "\n",
      "Stacktrace:\n",
      " [1] rand(rng::TaskLocalRNG, sp::Random.SamplerRangeNDL{UInt64, Int64})\n",
      "   @ Random /Applications/Julia-1.11.app/Contents/Resources/julia/share/julia/stdlib/v1.11/Random/src/generation.jl:374\n",
      " [2] rand\n",
      "   @ /Applications/Julia-1.11.app/Contents/Resources/julia/share/julia/stdlib/v1.11/Random/src/Random.jl:255 [inlined]\n",
      " [3] rand\n",
      "   @ /Applications/Julia-1.11.app/Contents/Resources/julia/share/julia/stdlib/v1.11/Random/src/Random.jl:260 [inlined]\n",
      " [4] voter_model(; L::Int64, max_iter::Int64)\n",
      "   @ Main ~/Repos/socjologiaobliczeniowa2025/zad1/jl_notebook_cell_df34fa98e69747e1a8f8a730347b8e2f_W1sZmlsZQ==.jl:16"
     ]
    }
   ],
   "source": [
    "for i in 1:10\n",
    "    (iterations_passed, time_elapsed, ans_evolution) = voter_model(L=10);\n",
    "    push!(df, (3, 10, iterations_passed, time_elapsed, join(string.(ans_evolution), \";\")))\n",
    "end\n",
    "\n",
    "for i in 1:10\n",
    "    (iterations_passed, time_elapsed, ans_evolution) = voter_model(L=50);\n",
    "    push!(df, (3, 50, iterations_passed, time_elapsed, join(string.(ans_evolution), \";\")))\n",
    "end\n",
    "\n",
    "for i in 1:10\n",
    "    (iterations_passed, time_elapsed, ans_evolution) = voter_model(L=200);\n",
    "    push!(df, (3, 200, iterations_passed, time_elapsed, join(string.(ans_evolution), \";\")))\n",
    "end"
   ]
  },
  {
   "cell_type": "code",
   "execution_count": null,
   "metadata": {},
   "outputs": [],
   "source": [
    "# Krzysztof Stawarz\n",
    "# EOF"
   ]
  }
 ],
 "metadata": {
  "kernelspec": {
   "display_name": "Julia 1.11.3",
   "language": "julia",
   "name": "julia-1.11"
  },
  "language_info": {
   "file_extension": ".jl",
   "mimetype": "application/julia",
   "name": "julia",
   "version": "1.11.3"
  }
 },
 "nbformat": 4,
 "nbformat_minor": 2
}
