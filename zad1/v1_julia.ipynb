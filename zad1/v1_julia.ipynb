{
 "cells": [
  {
   "cell_type": "markdown",
   "metadata": {},
   "source": [
    "# Zad 1.  \n",
    "Zbadamy ewolucję układu na sieci kwadratowej o rozmiarze 100 ×100 dla początkowego losowego rozkładu dwóch opinii w układzie. Sporządzamy również wykres liczby opinii na ‘tak’ od czasu. Przyjmijmy sekwencyjny schemat aktualizacji opinii.  "
   ]
  },
  {
   "cell_type": "code",
   "execution_count": null,
   "metadata": {},
   "outputs": [
    {
     "data": {
      "text/plain": [
       "voter_model (generic function with 1 method)"
      ]
     },
     "metadata": {},
     "output_type": "display_data"
    }
   ],
   "source": [
    "# packages required\n",
    "using Random, Plots\n",
    "\n",
    "function voter_model(; L=100, max_iter=100_000)\n",
    "\n",
    "    network = rand(0:1, (L, L)) # L x L randomized binary matrix {1: \"yes\", 0: \"no\")\n",
    "    i = 0                       # iteration counter\n",
    "    yesses = []                 # number of ones/yes answers container\n",
    "\n",
    "    # model loop\n",
    "    start_time = time()\n",
    "    while (0 < sum(network) < L^2) && (i < max_iter)\n",
    "    # sum(network) de facto means number of ones/yes answers,\n",
    "    # having sum(network)==0 || sum(network)==L^2 means that model converged\n",
    "        i += 1\n",
    "        # foreach node in the network, copy opinion from one of its neighbout\n",
    "        for x in 1:L\n",
    "            for y in 1:L\n",
    "                decision = rand(1:4)    # randomly pick neigbour to copy opinion from\n",
    "                # why doesn't Julia natively support switch-case statement huh? -__-\n",
    "                if decision == 1\n",
    "                    # mod1() makes sure we dont go over the index range,\n",
    "                    # insted we just go back to the start\n",
    "                    network[x, y] = network[mod1(x - 1, L), y] # up\n",
    "                elseif decision == 2\n",
    "                    network[x, y] = network[mod1(x + 1, L), y] # down\n",
    "                elseif decision == 3\n",
    "                    network[x, y] = network[x, mod1(y - 1, L)] # left\n",
    "                else\n",
    "                    network[x, y] = network[x, mod1(y + 1, L)] # right\n",
    "                end\n",
    "            end\n",
    "        end\n",
    "        push!(yesses, sum(network)) # add number of ones / yes answers to the list                  \n",
    "    end\n",
    "    end_time = time()\n",
    "\n",
    "    elapsed_time = end_time - start_time\n",
    "\n",
    "    # end message using fancy ternary operator\n",
    "    i == max_iter ? println(\"Model did not converge, max_iter=$i reached\") : println(\"Model converged after $i iterations\")\n",
    "\n",
    "\n",
    "    return (i, yesses, elapsed_time)\n",
    "end"
   ]
  },
  {
   "cell_type": "code",
   "execution_count": 24,
   "metadata": {},
   "outputs": [
    {
     "name": "stdout",
     "output_type": "stream",
     "text": [
      "Model converged after 7764 iterations\n"
     ]
    }
   ],
   "source": [
    "(iteration, yesses, elapsed) = voter_model(L=100);"
   ]
  },
  {
   "cell_type": "code",
   "execution_count": null,
   "metadata": {},
   "outputs": [],
   "source": []
  },
  {
   "cell_type": "markdown",
   "metadata": {},
   "source": [
    "# Zad 2.  \n",
    "Powtarzamy dziesięciokrotnie symulacje mierząc średni czasy dojścia do konsensusu (dziesieć różnych punktów startowych). Wyznaczamy średnią z tych dziesięciu pomiarów i niepewność jej wyznaczenia.  \n",
    "# Zad 3.  \n",
    "Sprawdźmy czy i jak średni czas dojścia do konsensusu (z dziesięciu realizacji) zależy od rozmiaru układu L2? Przyjmijmy L= 10, 50, 100, 200."
   ]
  },
  {
   "cell_type": "markdown",
   "metadata": {},
   "source": [
    "# Sprawozdanie"
   ]
  },
  {
   "cell_type": "markdown",
   "metadata": {},
   "source": [
    "Wprowadzenie (25 pkt.) Zdefiniowanie modelu, opisanie problemu.  \n",
    "Wyniki (50 pkt.)  \n",
    "    ad 1: kilka wizualizacji sieci w kolejnych krokach czasowych. Wykres zależności czasowej liczby kroków na „tak”.  \n",
    "    ad 2: Średnia z czasów dojścia do konsensusu wraz z jej niepewnością (odchyleniem standardowym średniej).  \n",
    "    ad 3: Wykres τ(L2).  \n",
    "Wnioski (25 pkt.) Jakie zjawisko udało się zaobserwować? W jaki sposób zmienia się czas dochodzenia\n",
    "do konsensusu z liczbą aktorów?"
   ]
  },
  {
   "cell_type": "code",
   "execution_count": null,
   "metadata": {},
   "outputs": [],
   "source": []
  }
 ],
 "metadata": {
  "kernelspec": {
   "display_name": "Julia 1.11.3",
   "language": "julia",
   "name": "julia-1.11"
  },
  "language_info": {
   "file_extension": ".jl",
   "mimetype": "application/julia",
   "name": "julia",
   "version": "1.11.3"
  }
 },
 "nbformat": 4,
 "nbformat_minor": 2
}
